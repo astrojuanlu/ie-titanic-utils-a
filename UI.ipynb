{
 "cells": [
  {
   "cell_type": "markdown",
   "id": "infinite-tomato",
   "metadata": {},
   "source": [
    "# IE Tokenization utils"
   ]
  },
  {
   "cell_type": "code",
   "execution_count": 1,
   "id": "published-building",
   "metadata": {},
   "outputs": [],
   "source": [
    "# !ls"
   ]
  },
  {
   "cell_type": "code",
   "execution_count": 2,
   "id": "usual-stadium",
   "metadata": {},
   "outputs": [],
   "source": [
    "# !pwd"
   ]
  },
  {
   "cell_type": "code",
   "execution_count": 4,
   "id": "local-reputation",
   "metadata": {
    "scrolled": true
   },
   "outputs": [],
   "source": [
    "# %pip install /home/jovyan\n",
    "# %pip install ."
   ]
  },
  {
   "cell_type": "code",
   "execution_count": 5,
   "id": "vietnamese-evidence",
   "metadata": {},
   "outputs": [],
   "source": [
    "from ie_utils import tokenize"
   ]
  },
  {
   "cell_type": "code",
   "execution_count": 6,
   "id": "optical-pricing",
   "metadata": {},
   "outputs": [],
   "source": [
    "import ipywidgets as ipyw"
   ]
  },
  {
   "cell_type": "code",
   "execution_count": 7,
   "id": "stopped-inquiry",
   "metadata": {},
   "outputs": [
    {
     "data": {
      "application/vnd.jupyter.widget-view+json": {
       "model_id": "6f1f3f101e28439f9d4cbeb4b13d2541",
       "version_major": 2,
       "version_minor": 0
      },
      "text/plain": [
       "interactive(children=(Text(value='', description='sentence'), Output()), _dom_classes=('widget-interact',))"
      ]
     },
     "metadata": {},
     "output_type": "display_data"
    }
   ],
   "source": [
    "@ipyw.interact\n",
    "def do_tokenize(sentence=\"\"):\n",
    "    tokens = tokenize(sentence)\n",
    "    tokens_text = \"\\n\".join(tokens)\n",
    "\n",
    "    print(f\"\"\"Number of tokens: {len(tokens)}\n",
    "Tokens:\n",
    "{tokens_text}\n",
    "    \"\"\")"
   ]
  },
  {
   "cell_type": "code",
   "execution_count": 10,
   "id": "central-ownership",
   "metadata": {},
   "outputs": [],
   "source": [
    "tokenize_widget = ipyw.interactive(do_tokenize)"
   ]
  },
  {
   "cell_type": "code",
   "execution_count": 14,
   "id": "ruled-legislature",
   "metadata": {},
   "outputs": [
    {
     "data": {
      "application/vnd.jupyter.widget-view+json": {
       "model_id": "fce95e70c08642628004cec61aab797e",
       "version_major": 2,
       "version_minor": 0
      },
      "text/plain": [
       "Tab(children=(interactive(children=(Text(value='', description='sentence'), Output(outputs=({'output_type': 's…"
      ]
     },
     "metadata": {},
     "output_type": "display_data"
    }
   ],
   "source": [
    "ui = ipyw.Tab(children=[tokenize_widget])\n",
    "ui.set_title(0, \"Tokenization interface\")\n",
    "ui"
   ]
  }
 ],
 "metadata": {
  "kernelspec": {
   "display_name": "Python 3",
   "language": "python",
   "name": "python3"
  },
  "language_info": {
   "codemirror_mode": {
    "name": "ipython",
    "version": 3
   },
   "file_extension": ".py",
   "mimetype": "text/x-python",
   "name": "python",
   "nbconvert_exporter": "python",
   "pygments_lexer": "ipython3",
   "version": "3.7.3"
  }
 },
 "nbformat": 4,
 "nbformat_minor": 5
}
