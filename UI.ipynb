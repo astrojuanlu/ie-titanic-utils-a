{
 "cells": [
  {
   "cell_type": "markdown",
   "id": "infinite-tomato",
   "metadata": {},
   "source": [
    "# IE Tokenization utils"
   ]
  },
  {
   "cell_type": "code",
   "execution_count": 1,
   "id": "published-building",
   "metadata": {},
   "outputs": [],
   "source": [
    "# !ls"
   ]
  },
  {
   "cell_type": "code",
   "execution_count": 2,
   "id": "usual-stadium",
   "metadata": {},
   "outputs": [],
   "source": [
    "# !pwd"
   ]
  },
  {
   "cell_type": "code",
   "execution_count": 4,
   "id": "local-reputation",
   "metadata": {
    "scrolled": true
   },
   "outputs": [],
   "source": [
    "# %pip install /home/jovyan\n",
    "# %pip install ."
   ]
  },
  {
   "cell_type": "code",
   "execution_count": 5,
   "id": "vietnamese-evidence",
   "metadata": {},
   "outputs": [],
   "source": [
    "from ie_utils import tokenize"
   ]
  },
  {
   "cell_type": "code",
   "execution_count": 6,
   "id": "optical-pricing",
   "metadata": {},
   "outputs": [],
   "source": [
    "import ipywidgets as ipyw"
   ]
  },
  {
   "cell_type": "code",
   "execution_count": 10,
   "id": "cb6c2791",
   "metadata": {},
   "outputs": [],
   "source": [
    "import requests"
   ]
  },
  {
   "cell_type": "code",
   "execution_count": 24,
   "id": "22f5dba2",
   "metadata": {},
   "outputs": [
    {
     "data": {
      "application/vnd.jupyter.widget-view+json": {
       "model_id": "85f5477692034b53b69be49c49e62e2a",
       "version_major": 2,
       "version_minor": 0
      },
      "text/plain": [
       "interactive(children=(Text(value='', description='sentence'), Output()), _dom_classes=('widget-interact',))"
      ]
     },
     "metadata": {},
     "output_type": "display_data"
    }
   ],
   "source": [
    "@ipyw.interact\n",
    "def tokenize_through_api(sentence=\"\"):\n",
    "    if sentence:\n",
    "        response = requests.get(\"http://127.0.0.1:5000/tokenize\", params={\"sentence\": sentence})\n",
    "        tokens = response.json()[\"tokens\"]\n",
    "    else:\n",
    "        tokens = []\n",
    "    tokens_text = \"\\n\".join(tokens)\n",
    "\n",
    "    print(f\"\"\"Number of tokens: {len(tokens)}\n",
    "Tokens:\n",
    "{tokens_text}\n",
    "    \"\"\")"
   ]
  },
  {
   "cell_type": "code",
   "execution_count": 7,
   "id": "stopped-inquiry",
   "metadata": {},
   "outputs": [
    {
     "data": {
      "application/vnd.jupyter.widget-view+json": {
       "model_id": "e64ad01e976b418c8b21c6519565a673",
       "version_major": 2,
       "version_minor": 0
      },
      "text/plain": [
       "interactive(children=(Text(value='', description='sentence'), Output()), _dom_classes=('widget-interact',))"
      ]
     },
     "metadata": {},
     "output_type": "display_data"
    }
   ],
   "source": [
    "@ipyw.interact\n",
    "def do_tokenize(sentence=\"\"):\n",
    "    tokens = tokenize(sentence)\n",
    "    tokens_text = \"\\n\".join(tokens)\n",
    "\n",
    "    print(f\"\"\"Number of tokens: {len(tokens)}\n",
    "Tokens:\n",
    "{tokens_text}\n",
    "    \"\"\")"
   ]
  },
  {
   "cell_type": "code",
   "execution_count": 10,
   "id": "central-ownership",
   "metadata": {},
   "outputs": [],
   "source": [
    "tokenize_widget = ipyw.interactive(do_tokenize)"
   ]
  },
  {
   "cell_type": "code",
   "execution_count": 14,
   "id": "ruled-legislature",
   "metadata": {},
   "outputs": [
    {
     "data": {
      "application/vnd.jupyter.widget-view+json": {
       "model_id": "6173f8673bf8446b95d3796c948cfd08",
       "version_major": 2,
       "version_minor": 0
      },
      "text/plain": [
       "Tab(children=(interactive(children=(Text(value='', description='sentence'), Output()), _dom_classes=('widget-i…"
      ]
     },
     "metadata": {},
     "output_type": "display_data"
    }
   ],
   "source": [
    "ui = ipyw.Tab(children=[tokenize_widget])\n",
    "ui.set_title(0, \"Tokenization interface\")\n",
    "ui"
   ]
  }
 ],
 "metadata": {
  "kernelspec": {
   "display_name": "Python 3 (ipykernel)",
   "language": "python",
   "name": "python3"
  },
  "language_info": {
   "codemirror_mode": {
    "name": "ipython",
    "version": 3
   },
   "file_extension": ".py",
   "mimetype": "text/x-python",
   "name": "python",
   "nbconvert_exporter": "python",
   "pygments_lexer": "ipython3",
   "version": "3.9.10"
  }
 },
 "nbformat": 4,
 "nbformat_minor": 5
}
